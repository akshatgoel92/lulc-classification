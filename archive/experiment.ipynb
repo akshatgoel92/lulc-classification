{
 "cells": [
  {
   "cell_type": "code",
   "execution_count": 6,
   "id": "b1ca91b0-0e20-42ce-a093-89e477713d07",
   "metadata": {},
   "outputs": [
    {
     "ename": "UnidentifiedImageError",
     "evalue": "cannot identify image file <_io.BytesIO object at 0x109caa020>",
     "output_type": "error",
     "traceback": [
      "\u001b[0;31m---------------------------------------------------------------------------\u001b[0m",
      "\u001b[0;31mUnidentifiedImageError\u001b[0m                    Traceback (most recent call last)",
      "Cell \u001b[0;32mIn[6], line 11\u001b[0m\n\u001b[1;32m      9\u001b[0m \u001b[38;5;66;03m# Method 1: Direct PIL with explicit format\u001b[39;00m\n\u001b[1;32m     10\u001b[0m img_buffer \u001b[38;5;241m=\u001b[39m BytesIO(tiff_bytes)\n\u001b[0;32m---> 11\u001b[0m \u001b[38;5;28;01mwith\u001b[39;00m \u001b[43mImage\u001b[49m\u001b[38;5;241;43m.\u001b[39;49m\u001b[43mopen\u001b[49m\u001b[43m(\u001b[49m\u001b[43mimg_buffer\u001b[49m\u001b[43m,\u001b[49m\u001b[43m \u001b[49m\u001b[43mformats\u001b[49m\u001b[38;5;241;43m=\u001b[39;49m\u001b[43m[\u001b[49m\u001b[38;5;124;43m'\u001b[39;49m\u001b[38;5;124;43mTIFF\u001b[39;49m\u001b[38;5;124;43m'\u001b[39;49m\u001b[43m]\u001b[49m\u001b[43m)\u001b[49m \u001b[38;5;28;01mas\u001b[39;00m img:\n\u001b[1;32m     12\u001b[0m     img\u001b[38;5;241m.\u001b[39mload()  \u001b[38;5;66;03m# Force load the compressed data\u001b[39;00m\n\u001b[1;32m     13\u001b[0m     \u001b[38;5;28mprint\u001b[39m(\u001b[38;5;124mf\u001b[39m\u001b[38;5;124m\"\u001b[39m\u001b[38;5;124mImage opened: \u001b[39m\u001b[38;5;132;01m{\u001b[39;00mimg\u001b[38;5;241m.\u001b[39msize\u001b[38;5;132;01m}\u001b[39;00m\u001b[38;5;124m, mode: \u001b[39m\u001b[38;5;132;01m{\u001b[39;00mimg\u001b[38;5;241m.\u001b[39mmode\u001b[38;5;132;01m}\u001b[39;00m\u001b[38;5;124m, format: \u001b[39m\u001b[38;5;132;01m{\u001b[39;00mimg\u001b[38;5;241m.\u001b[39mformat\u001b[38;5;132;01m}\u001b[39;00m\u001b[38;5;124m\"\u001b[39m)\n",
      "File \u001b[0;32m~/.pyenv/versions/3.10.15/envs/lulc-env/lib/python3.10/site-packages/PIL/Image.py:3572\u001b[0m, in \u001b[0;36mopen\u001b[0;34m(fp, mode, formats)\u001b[0m\n\u001b[1;32m   3570\u001b[0m     warnings\u001b[38;5;241m.\u001b[39mwarn(message)\n\u001b[1;32m   3571\u001b[0m msg \u001b[38;5;241m=\u001b[39m \u001b[38;5;124m\"\u001b[39m\u001b[38;5;124mcannot identify image file \u001b[39m\u001b[38;5;132;01m%r\u001b[39;00m\u001b[38;5;124m\"\u001b[39m \u001b[38;5;241m%\u001b[39m (filename \u001b[38;5;28;01mif\u001b[39;00m filename \u001b[38;5;28;01melse\u001b[39;00m fp)\n\u001b[0;32m-> 3572\u001b[0m \u001b[38;5;28;01mraise\u001b[39;00m UnidentifiedImageError(msg)\n",
      "\u001b[0;31mUnidentifiedImageError\u001b[0m: cannot identify image file <_io.BytesIO object at 0x109caa020>"
     ]
    }
   ],
   "source": [
    "from PIL import Image\n",
    "from io import BytesIO\n",
    "import numpy as np\n",
    "\n",
    "# Your raw bytes data\n",
    "tiff_bytes = b'MM\\x00*\\x00\\x00\\x00\\x08\\x00\\x11\\x01\\x00\\x00\\x03\\x00\\x00\\x00\\x01\\x00\\t\\x00\\x00\\x01\\x01\\x00\\x03\\x00\\x00\\x00\\x01\\x00\\t\\x00\\x00\\x01\\x02\\x00\\x03\\x00\\x00\\x00\\x03\\x00\\x00\\x00\\xdc\\x01\\x03\\x00\\x03\\x00\\x00\\x00\\x01\\x80\\xb2\\x00\\x00\\x01\\x06\\x00\\x03\\x00\\x00\\x00\\x01\\x00\\x02\\x00\\x00\\x01\\x15\\x00\\x03\\x00\\x00\\x00\\x01\\x00\\x03\\x00\\x00\\x01\\x1a\\x00\\x05\\x00\\x00\\x00\\x01\\x00\\x00\\x00\\xe4\\x01\\x1b\\x00\\x05\\x00\\x00\\x00\\x01\\x00\\x00\\x00\\xec\\x01(\\x00\\x03\\x00\\x00\\x00\\x01\\x00\\x01\\x00\\x00\\x01B\\x00\\x03\\x00\\x00\\x00\\x01\\x01\\x00\\x00\\x00\\x01C\\x00\\x03\\x00\\x00\\x00\\x01\\x01\\x00\\x00\\x00\\x01D\\x00\\x04\\x00\\x00\\x00\\x01\\x00\\x00\\x01\\x9c\\x01E\\x00\\x04\\x00\\x00\\x00\\x01\\x00\\x00\\x06\\x0b\\x01S\\x00\\x03\\x00\\x00\\x00\\x03\\x00\\x00\\x00\\xf4\\x85\\xd8\\x00\\x0c\\x00\\x00\\x00\\x10\\x00\\x00\\x00\\xfc\\x87\\xaf\\x00\\x03\\x00\\x00\\x00\\x10\\x00\\x00\\x01|\\xa4\\x81\\x00\\x02\\x00\\x00\\x00\\x040.0\\x00\\x00\\x00\\x00\\x00\\x00\\x00\\x00@\\x00@\\x00@\\x00\\x00\\x00\\x00\\x00\\x01\\x00\\x00\\x00\\x01\\x00\\x00\\x00\\x01\\x00\\x00\\x00\\x01\\x00\\x03\\x00\\x03\\x00\\x03\\x00\\x00?\\x17\\x8c}\\xe8\\x1e\\x8c&\\x00\\x00\\x00\\x00\\x00\\x00\\x00\\x00\\x00\\x00\\x00\\x00\\x00\\x00\\x00\\x00@R\\xf9\\xd4\\x91FU\\x12\\x00\\x00\\x00\\x00\\x00\\x00\\x00\\x00\\xbf\\x17\\x8c}\\xe8\\x1e\\x8c&\\x00\\x00\\x00\\x00\\x00\\x00\\x00\\x00@3\\x92\\xb8#w)\\xe5\\x00\\x00\\x00\\x00\\x00\\x00\\x00\\x00\\x00\\x00\\x00\\x00\\x00\\x00\\x00\\x00\\x00\\x00\\x00\\x00\\x00\\x00\\x00\\x00\\x00\\x00\\x00\\x00\\x00\\x00\\x00\\x00\\x00\\x00\\x00\\x00\\x00\\x00\\x00\\x00\\x00\\x00\\x00\\x00\\x00\\x00\\x00\\x00\\x00\\x00\\x00\\x00\\x00\\x00\\x00\\x00?\\xf0\\x00\\x00\\x00\\x00\\x00\\x00\\x00\\x01\\x00\\x01\\x00\\x02\\x00\\x03\\x04\\x00\\x00\\x00\\x00\\x01\\x00\\x02\\x04\\x01\\x00\\x00\\x00\\x01\\x00\\x01\\x08\\x00\\x00\\x00\\x00\\x01\\x10\\xe6x\\xda\\xed\\xc11\\x01\\x00\\x00\\x00\\xc2\\xa0\\xf5Om\\n?\\xa0' + b'\\x00' * 1000  # Fill with rest of zeros\n",
    "\n",
    "\n",
    "# Method 1: Direct PIL with explicit format\n",
    "img_buffer = BytesIO(tiff_bytes)\n",
    "with Image.open(img_buffer, formats=['TIFF']) as img:\n",
    "    img.load()  # Force load the compressed data\n",
    "    print(f\"Image opened: {img.size}, mode: {img.mode}, format: {img.format}\")\n",
    "    img.show()\n",
    "    # Convert to array\n",
    "    img_array = np.array(img)\n",
    "    print(f\"Array shape: {img_array.shape}, dtype: {img_array.dtype}\")\n",
    "    print(f\"Array values: min={img_array.min()}, max={img_array.max()}\")"
   ]
  },
  {
   "cell_type": "code",
   "execution_count": 6,
   "id": "02363173-13b1-4874-adf4-061991a06f85",
   "metadata": {},
   "outputs": [
    {
     "name": "stdout",
     "output_type": "stream",
     "text": [
      "Image data shape: (9, 9, 3)\n"
     ]
    }
   ],
   "source": [
    "import requests\n",
    "import tifffile\n",
    "\n",
    "def read_tiff_from_url(url):\n",
    "    \"\"\"\n",
    "    Reads a TIFF image from a URL and returns it as a NumPy array.\n",
    "\n",
    "    Args:\n",
    "        url: The URL of the TIFF image.\n",
    "\n",
    "    Returns:\n",
    "        A NumPy array representing the TIFF image data, or None if an error occurred.\n",
    "    \"\"\"\n",
    "    try:\n",
    "        response = requests.get(url, stream=True)\n",
    "        response.raise_for_status()  # Raise HTTPError for bad responses (4xx or 5xx)\n",
    "\n",
    "        with open(\"temp.tiff\", \"wb\") as f:\n",
    "            for chunk in response.iter_content(chunk_size=8192):\n",
    "                f.write(chunk)\n",
    "\n",
    "        image = tifffile.imread(\"temp.tiff\")\n",
    "        return image\n",
    "    except requests.exceptions.RequestException as e:\n",
    "        print(f\"Error downloading image: {e}\")\n",
    "        return None\n",
    "    except Exception as e:\n",
    "        print(f\"Error reading image: {e}\")\n",
    "        return None\n",
    "    finally:\n",
    "        # Clean up the temporary file\n",
    "        try:\n",
    "            import os\n",
    "            os.remove(\"temp.tiff\")\n",
    "        except FileNotFoundError:\n",
    "            pass\n",
    "\n",
    "# Example usage:\n",
    "image_url = \"https://earthengine.googleapis.com/v1/projects/amiable-raceway-342517/thumbnails/11e1e705611a6d4855409851dbf676d6-95a8a662b70b2b251bdc786ee04d53a4:getPixels\"  # Replace with the actual URL\n",
    "image_data = read_tiff_from_url(image_url)\n",
    "\n",
    "if image_data is not None:\n",
    "    print(\"Image data shape:\", image_data.shape)\n",
    "    # You can now work with the image_data NumPy array\n",
    "else:\n",
    "    print(\"Failed to read the TIFF image.\")"
   ]
  },
  {
   "cell_type": "code",
   "execution_count": 15,
   "id": "55737b49-e8ef-483d-adc1-4c6b5833a877",
   "metadata": {},
   "outputs": [],
   "source": [
    "from PIL import Image\n",
    "import numpy as np\n",
    "img = Image.fromarray((image_data * 255).astype(np.uint8))"
   ]
  },
  {
   "cell_type": "code",
   "execution_count": 17,
   "id": "4b7d1616-778e-418c-8b56-4a0ced533b81",
   "metadata": {},
   "outputs": [],
   "source": [
    "img.show()"
   ]
  },
  {
   "cell_type": "code",
   "execution_count": null,
   "id": "a99b2247-7540-4d3f-b82d-d7487835bc56",
   "metadata": {},
   "outputs": [],
   "source": []
  }
 ],
 "metadata": {
  "kernelspec": {
   "display_name": "Python 3 (ipykernel)",
   "language": "python",
   "name": "python3"
  },
  "language_info": {
   "codemirror_mode": {
    "name": "ipython",
    "version": 3
   },
   "file_extension": ".py",
   "mimetype": "text/x-python",
   "name": "python",
   "nbconvert_exporter": "python",
   "pygments_lexer": "ipython3",
   "version": "3.10.15"
  }
 },
 "nbformat": 4,
 "nbformat_minor": 5
}
